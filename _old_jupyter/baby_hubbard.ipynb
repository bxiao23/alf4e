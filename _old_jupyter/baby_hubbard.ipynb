{
 "cells": [
  {
   "cell_type": "code",
   "execution_count": 1,
   "id": "f987fcee",
   "metadata": {},
   "outputs": [],
   "source": [
    "from py_alf import ALF_source, Simulation"
   ]
  },
  {
   "cell_type": "code",
   "execution_count": 2,
   "id": "cd739091",
   "metadata": {},
   "outputs": [],
   "source": [
    "alf_src = ALF_source()"
   ]
  },
  {
   "cell_type": "code",
   "execution_count": 3,
   "id": "46dbfa28",
   "metadata": {},
   "outputs": [],
   "source": [
    "sim = Simulation(\n",
    "    alf_src,\n",
    "    \"Hubbard\",\n",
    "    {\n",
    "        \"Lattice_type\": \"Square\",\n",
    "        \"L1\": 4,\n",
    "        \"L2\": 4,\n",
    "        \"ham_u\": 0.1,\n",
    "        \"ham_u2\": 0.1\n",
    "    },\n",
    "    machine=\"GNU\"\n",
    ")"
   ]
  },
  {
   "cell_type": "code",
   "execution_count": 4,
   "id": "b323e925",
   "metadata": {
    "scrolled": true
   },
   "outputs": [
    {
     "name": "stdout",
     "output_type": "stream",
     "text": [
      "Compiling ALF... \n",
      "Cleaning up Prog/\n",
      "Cleaning up Libraries/\n",
      "Cleaning up Analysis/\n",
      "Compiling Libraries\n"
     ]
    },
    {
     "name": "stderr",
     "output_type": "stream",
     "text": [
      "entanglement_mod.F90:35:2:\n",
      "\n",
      "   35 | #warning \"You are compiling entanglement without MPI. No results possible\"\n",
      "      |  1~~~~~~\n",
      "Warning: #warning \"You are compiling entanglement without MPI. No results possible\" [-Wcpp]\n",
      "ar: creating modules_90.a\n",
      "ar: creating libqrref.a\n"
     ]
    },
    {
     "name": "stdout",
     "output_type": "stream",
     "text": [
      "Compiling Analysis\n",
      "Compiling Program\n",
      "Parsing Hamiltonian parameters\n",
      "filename: Hamiltonians/Hamiltonian_Kondo_smod.F90\n",
      "filename: Hamiltonians/Hamiltonian_Hubbard_smod.F90\n",
      "filename: Hamiltonians/Hamiltonian_Hubbard_Plain_Vanilla_smod.F90\n",
      "filename: Hamiltonians/Hamiltonian_tV_smod.F90\n",
      "filename: Hamiltonians/Hamiltonian_LRC_smod.F90\n",
      "filename: Hamiltonians/Hamiltonian_Z2_Matter_smod.F90\n",
      "Compiling program modules\n",
      "Link program\n",
      "Done.\n"
     ]
    }
   ],
   "source": [
    "sim.compile()"
   ]
  },
  {
   "cell_type": "code",
   "execution_count": 5,
   "id": "0dfe276d",
   "metadata": {},
   "outputs": [
    {
     "name": "stdout",
     "output_type": "stream",
     "text": [
      "Prepare directory \"/home/ganzfeld/OneDrive/School/UROP/su2022/fu/alf/pyALF-master/my_stuff/ALF_data/Hubbard_Square_L1=4_L2=4_u=0.1_u2=0.1\" for Monte Carlo run.\n",
      "Create new directory.\n",
      "Run /home/ganzfeld/OneDrive/School/UROP/su2022/fu/alf/pyALF-master/my_stuff/ALF/Prog/ALF.out\n",
      " ALF Copyright (C) 2016 - 2021 The ALF project contributors\n",
      " This Program comes with ABSOLUTELY NO WARRANTY; for details see license.GPL\n",
      " This is free software, and you are welcome to redistribute it under certain conditions.\n",
      " No initial configuration\n"
     ]
    }
   ],
   "source": [
    "sim.run()"
   ]
  },
  {
   "cell_type": "code",
   "execution_count": 6,
   "id": "fc36f7c3",
   "metadata": {},
   "outputs": [
    {
     "name": "stdout",
     "output_type": "stream",
     "text": [
      "### Analyzing /home/ganzfeld/OneDrive/School/UROP/su2022/fu/alf/pyALF-master/my_stuff/ALF_data/Hubbard_Square_L1=4_L2=4_u=0.1_u2=0.1 ###\n",
      "/home/ganzfeld/OneDrive/School/UROP/su2022/fu/alf/pyALF-master/my_stuff\n",
      "Scalar observables:\n",
      "Ener_scal\n",
      "Kin_scal\n",
      "Part_scal\n",
      "Pot_scal\n",
      "Histogram observables:\n",
      "Equal time observables:\n",
      "Den_eq\n",
      "Green_eq\n",
      "SpinT_eq\n",
      "SpinXY_eq\n",
      "SpinZ_eq\n",
      "Time displaced observables:\n",
      "Den_tau\n",
      "Green_tau\n",
      "SpinT_tau\n",
      "SpinXY_tau\n",
      "SpinZ_tau\n"
     ]
    }
   ],
   "source": [
    "sim.analysis()"
   ]
  },
  {
   "cell_type": "code",
   "execution_count": 7,
   "id": "16f6e184",
   "metadata": {},
   "outputs": [
    {
     "name": "stdout",
     "output_type": "stream",
     "text": [
      "/home/ganzfeld/OneDrive/School/UROP/su2022/fu/alf/pyALF-master/my_stuff/ALF_data/Hubbard_Square_L1=4_L2=4_u=0.1_u2=0.1\n"
     ]
    }
   ],
   "source": [
    "obs = sim.get_obs()"
   ]
  },
  {
   "cell_type": "code",
   "execution_count": 8,
   "id": "42e11a33",
   "metadata": {},
   "outputs": [
    {
     "data": {
      "text/html": [
       "<div>\n",
       "<style scoped>\n",
       "    .dataframe tbody tr th:only-of-type {\n",
       "        vertical-align: middle;\n",
       "    }\n",
       "\n",
       "    .dataframe tbody tr th {\n",
       "        vertical-align: top;\n",
       "    }\n",
       "\n",
       "    .dataframe thead th {\n",
       "        text-align: right;\n",
       "    }\n",
       "</style>\n",
       "<table border=\"1\" class=\"dataframe\">\n",
       "  <thead>\n",
       "    <tr style=\"text-align: right;\">\n",
       "      <th></th>\n",
       "      <th>continuous</th>\n",
       "      <th>ham_chem</th>\n",
       "      <th>ham_t</th>\n",
       "      <th>ham_t2</th>\n",
       "      <th>ham_tperp</th>\n",
       "      <th>ham_u</th>\n",
       "      <th>ham_u2</th>\n",
       "      <th>mz</th>\n",
       "      <th>l1</th>\n",
       "      <th>l2</th>\n",
       "      <th>...</th>\n",
       "      <th>SpinXY_tauK_err</th>\n",
       "      <th>SpinXY_tauR</th>\n",
       "      <th>SpinXY_tauR_err</th>\n",
       "      <th>SpinXY_tau_lattice</th>\n",
       "      <th>SpinZ_tauK</th>\n",
       "      <th>SpinZ_tauK_err</th>\n",
       "      <th>SpinZ_tauR</th>\n",
       "      <th>SpinZ_tauR_err</th>\n",
       "      <th>SpinZ_tau_lattice</th>\n",
       "      <th>lattice</th>\n",
       "    </tr>\n",
       "  </thead>\n",
       "  <tbody>\n",
       "    <tr>\n",
       "      <th>/home/ganzfeld/OneDrive/School/UROP/su2022/fu/alf/pyALF-master/my_stuff/ALF_data/Hubbard_Square_L1=4_L2=4_u=0.1_u2=0.1</th>\n",
       "      <td>0</td>\n",
       "      <td>0.0</td>\n",
       "      <td>1.0</td>\n",
       "      <td>1.0</td>\n",
       "      <td>1.0</td>\n",
       "      <td>0.1</td>\n",
       "      <td>0.1</td>\n",
       "      <td>1</td>\n",
       "      <td>4</td>\n",
       "      <td>4</td>\n",
       "      <td>...</td>\n",
       "      <td>[[0.0003839427580516619, 0.0007024982875594513...</td>\n",
       "      <td>[[0.000710011571504349, -0.07115673095550137, ...</td>\n",
       "      <td>[[5.7496808519814284e-05, 0.000222026833517947...</td>\n",
       "      <td>{'L1': [4.0, 0.0], 'L2': [0.0, 4.0], 'a1': [1....</td>\n",
       "      <td>[[0.5075292188351959, 0.37957859562941587, 0.5...</td>\n",
       "      <td>[[0.0016923632997602519, 0.0008978107033309529...</td>\n",
       "      <td>[[0.0006747468241814266, -0.071048665874695, 0...</td>\n",
       "      <td>[[0.0007140805741263722, 0.0006088648001617426...</td>\n",
       "      <td>{'L1': [4.0, 0.0], 'L2': [0.0, 4.0], 'a1': [1....</td>\n",
       "      <td>{'L1': [4.0, 0.0], 'L2': [0.0, 4.0], 'N_coord'...</td>\n",
       "    </tr>\n",
       "  </tbody>\n",
       "</table>\n",
       "<p>1 rows × 111 columns</p>\n",
       "</div>"
      ],
      "text/plain": [
       "                                                    continuous  ham_chem  \\\n",
       "/home/ganzfeld/OneDrive/School/UROP/su2022/fu/a...           0       0.0   \n",
       "\n",
       "                                                    ham_t  ham_t2  ham_tperp  \\\n",
       "/home/ganzfeld/OneDrive/School/UROP/su2022/fu/a...    1.0     1.0        1.0   \n",
       "\n",
       "                                                    ham_u  ham_u2  mz  l1  l2  \\\n",
       "/home/ganzfeld/OneDrive/School/UROP/su2022/fu/a...    0.1     0.1   1   4   4   \n",
       "\n",
       "                                                    ...  \\\n",
       "/home/ganzfeld/OneDrive/School/UROP/su2022/fu/a...  ...   \n",
       "\n",
       "                                                                                      SpinXY_tauK_err  \\\n",
       "/home/ganzfeld/OneDrive/School/UROP/su2022/fu/a...  [[0.0003839427580516619, 0.0007024982875594513...   \n",
       "\n",
       "                                                                                          SpinXY_tauR  \\\n",
       "/home/ganzfeld/OneDrive/School/UROP/su2022/fu/a...  [[0.000710011571504349, -0.07115673095550137, ...   \n",
       "\n",
       "                                                                                      SpinXY_tauR_err  \\\n",
       "/home/ganzfeld/OneDrive/School/UROP/su2022/fu/a...  [[5.7496808519814284e-05, 0.000222026833517947...   \n",
       "\n",
       "                                                                                   SpinXY_tau_lattice  \\\n",
       "/home/ganzfeld/OneDrive/School/UROP/su2022/fu/a...  {'L1': [4.0, 0.0], 'L2': [0.0, 4.0], 'a1': [1....   \n",
       "\n",
       "                                                                                           SpinZ_tauK  \\\n",
       "/home/ganzfeld/OneDrive/School/UROP/su2022/fu/a...  [[0.5075292188351959, 0.37957859562941587, 0.5...   \n",
       "\n",
       "                                                                                       SpinZ_tauK_err  \\\n",
       "/home/ganzfeld/OneDrive/School/UROP/su2022/fu/a...  [[0.0016923632997602519, 0.0008978107033309529...   \n",
       "\n",
       "                                                                                           SpinZ_tauR  \\\n",
       "/home/ganzfeld/OneDrive/School/UROP/su2022/fu/a...  [[0.0006747468241814266, -0.071048665874695, 0...   \n",
       "\n",
       "                                                                                       SpinZ_tauR_err  \\\n",
       "/home/ganzfeld/OneDrive/School/UROP/su2022/fu/a...  [[0.0007140805741263722, 0.0006088648001617426...   \n",
       "\n",
       "                                                                                    SpinZ_tau_lattice  \\\n",
       "/home/ganzfeld/OneDrive/School/UROP/su2022/fu/a...  {'L1': [4.0, 0.0], 'L2': [0.0, 4.0], 'a1': [1....   \n",
       "\n",
       "                                                                                              lattice  \n",
       "/home/ganzfeld/OneDrive/School/UROP/su2022/fu/a...  {'L1': [4.0, 0.0], 'L2': [0.0, 4.0], 'N_coord'...  \n",
       "\n",
       "[1 rows x 111 columns]"
      ]
     },
     "execution_count": 8,
     "metadata": {},
     "output_type": "execute_result"
    }
   ],
   "source": [
    "obs"
   ]
  },
  {
   "cell_type": "code",
   "execution_count": 9,
   "id": "32257944",
   "metadata": {},
   "outputs": [
    {
     "data": {
      "text/plain": [
       "Ener_scal0           -23.600871\n",
       "Ener_scal0_err         0.002845\n",
       "Ener_scal_sign              1.0\n",
       "Ener_scal_sign_err          0.0\n",
       "Name: /home/ganzfeld/OneDrive/School/UROP/su2022/fu/alf/pyALF-master/my_stuff/ALF_data/Hubbard_Square_L1=4_L2=4_u=0.1_u2=0.1, dtype: object"
      ]
     },
     "execution_count": 9,
     "metadata": {},
     "output_type": "execute_result"
    }
   ],
   "source": [
    "obs.iloc[0][['Ener_scal0', 'Ener_scal0_err', 'Ener_scal_sign', 'Ener_scal_sign_err']]"
   ]
  },
  {
   "cell_type": "code",
   "execution_count": 29,
   "id": "104dca9f",
   "metadata": {},
   "outputs": [
    {
     "name": "stdout",
     "output_type": "stream",
     "text": [
      "Prepare directory \"/home/ganzfeld/OneDrive/School/UROP/su2022/fu/alf/pyALF-master/my_stuff/ALF_data/Hubbard_Square_L1=4_L2=4_u=0.1_u2=0.1\" for Monte Carlo run.\n",
      "Resuming previous run.\n",
      "Run /home/ganzfeld/OneDrive/School/UROP/su2022/fu/alf/pyALF-master/my_stuff/ALF/Prog/ALF.out\n",
      " ALF Copyright (C) 2016 - 2021 The ALF project contributors\n",
      " This Program comes with ABSOLUTELY NO WARRANTY; for details see license.GPL\n",
      " This is free software, and you are welcome to redistribute it under certain conditions.\n",
      "### Analyzing /home/ganzfeld/OneDrive/School/UROP/su2022/fu/alf/pyALF-master/my_stuff/ALF_data/Hubbard_Square_L1=4_L2=4_u=0.1_u2=0.1 ###\n",
      "/home/ganzfeld/OneDrive/School/UROP/su2022/fu/alf/pyALF-master/my_stuff\n",
      "Scalar observables:\n",
      "Ener_scal\n",
      "Kin_scal\n",
      "Part_scal\n",
      "Pot_scal\n",
      "Histogram observables:\n",
      "Equal time observables:\n",
      "Den_eq\n",
      "Green_eq\n",
      "SpinT_eq\n",
      "SpinXY_eq\n",
      "SpinZ_eq\n",
      "Time displaced observables:\n",
      "Den_tau\n",
      "Green_tau\n",
      "SpinT_tau\n",
      "SpinXY_tau\n",
      "SpinZ_tau\n",
      "/home/ganzfeld/OneDrive/School/UROP/su2022/fu/alf/pyALF-master/my_stuff/ALF_data/Hubbard_Square_L1=4_L2=4_u=0.1_u2=0.1\n"
     ]
    },
    {
     "data": {
      "text/plain": [
       "Ener_scal0           -23.602187\n",
       "Ener_scal0_err         0.000462\n",
       "Ener_scal_sign              1.0\n",
       "Ener_scal_sign_err          0.0\n",
       "Name: /home/ganzfeld/OneDrive/School/UROP/su2022/fu/alf/pyALF-master/my_stuff/ALF_data/Hubbard_Square_L1=4_L2=4_u=0.1_u2=0.1, dtype: object"
      ]
     },
     "execution_count": 29,
     "metadata": {},
     "output_type": "execute_result"
    }
   ],
   "source": [
    "sim.run()\n",
    "sim.analysis()\n",
    "obs2 = sim.get_obs()\n",
    "obs2.iloc[0][['Ener_scal0', 'Ener_scal0_err', 'Ener_scal_sign', 'Ener_scal_sign_err']]"
   ]
  }
 ],
 "metadata": {
  "kernelspec": {
   "display_name": "Python [conda env:alf]",
   "language": "python",
   "name": "conda-env-alf-py"
  },
  "language_info": {
   "codemirror_mode": {
    "name": "ipython",
    "version": 3
   },
   "file_extension": ".py",
   "mimetype": "text/x-python",
   "name": "python",
   "nbconvert_exporter": "python",
   "pygments_lexer": "ipython3",
   "version": "3.10.4"
  }
 },
 "nbformat": 4,
 "nbformat_minor": 5
}
